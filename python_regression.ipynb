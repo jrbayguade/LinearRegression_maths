{
 "cells": [
  {
   "cell_type": "markdown",
   "id": "4d324fbc",
   "metadata": {},
   "source": [
    "#### **Least Squares Regression line**\n",
    "\n",
    "In this code we will explore how to create a basic lineal regression \"manually\", this is, without using any built in function in Python. I don't pretend to make this code more efficient or better by any means... I just want to do this exercise to better understand the underlying beautiful maths behind a linear regression. I won't even use a \"mean\" function, the idea is to do everything as manual as the code allows it.\n",
    "\n",
    "The aim of a linear regression is to establish the potential correlation between a variable (or multiple variables) and a dependent variable. The line can be then used to predict values that are not in the initial dataset.\n",
    "\n",
    "The method uses the **least squares method**, which basically aims to minimise the sum of the vertical distance between all of the data points and the line of best fit. This is kind of create the line that fits better the available data. \n",
    "\n",
    "To create this line we just need to estimate this simple linear equation:\n",
    "\n",
    "$$\n",
    "\\hat{y} = a + b x\n",
    "$$\n",
    "where:<br>\n",
    "- $\\hat{y}$ is the predicted value of $y$\n",
    "- $ a = \\bar{y} - b \\bar{x} $  \n",
    "- $ b = \\frac{S_{xy}}{S_{xx}} = \\frac{\\sum (x_i - \\bar{x})(y_i - \\bar{y})}{\\sum (x_i - \\bar{x})^2} = \\frac{\\sum (xy) - \\frac{\\sum x \\sum y}{n}}{\\sum (x^2) - \\frac{(\\sum x)^2}{n}} $  \n",
    "- $ \\bar{x} = \\frac{\\sum x}{n}, \\quad \\bar{y} = \\frac{\\sum y}{n}$\n",
    "\n",
    "More info on the underlying math:<br>\n",
    "https://www.ncl.ac.uk/webtemplate/ask-assets/external/maths-resources/statistics/regression-and-correlation/simple-linear-regression.html"
   ]
  },
  {
   "cell_type": "code",
   "execution_count": 82,
   "id": "a77f78e2",
   "metadata": {},
   "outputs": [],
   "source": [
    "# Define the variables\n",
    "X = [1, 2, 3, 4, 5, 6, 7, 8, 9, 10]\n",
    "y = [3, 3, 5, 15, 4, 1, 4, 20, 2, 12]\n",
    "\n",
    "# Start off by working out the mean of the independent and dependent variables.\n",
    "mean_X = sum(X) / len(X)\n",
    "mean_y = sum(y) / len(y)\n",
    "\n",
    "# Now calculate b (the slope of the regression line) with least squares method\n",
    "numerator = sum((X[i] - mean_X) * (y[i] - mean_y) for i in range(len(X)))\n",
    "denominator = sum((X[i] - mean_X) ** 2 for i in range(len(X)))\n",
    "b = numerator / denominator\n",
    "\n",
    "# Calculate a (the y-intercept of the regression line)\n",
    "a = mean_y - b * mean_X"
   ]
  },
  {
   "cell_type": "code",
   "execution_count": 81,
   "id": "c9e1866a",
   "metadata": {},
   "outputs": [
    {
     "name": "stdout",
     "output_type": "stream",
     "text": [
      "a (intercept): 6.6\n",
      "b (slope): 0.5272727272727272\n",
      "y = 6.60 + 0.53 * x\n"
     ]
    },
    {
     "data": {
      "image/png": "[encoded data removed]",
      "text/plain": [
       "<Figure size 640x480 with 1 Axes>"
      ]
     },
     "metadata": {},
     "output_type": "display_data"
    }
   ],
   "source": [
    "import matplotlib.pyplot as plt\n",
    "import numpy as np\n",
    "\n",
    "plt.scatter(X, y, color='blue', label='Data Points')\n",
    "plt.title('Scatter Plot Example')\n",
    "\n",
    "# Generate x-values for the line (min to max of X)\n",
    "x_line = np.linspace(min(X), max(X), 100)\n",
    "y_line = a + b * x_line  # Use the calculated slope and intercept on X\n",
    "\n",
    "# Print the values mostly for debugging purposes\n",
    "print(f\"a (intercept): {a}\")\n",
    "print(f\"b (slope): {b}\")\n",
    "print(f\"y = {a:.2f} + {b:.2f} * x\")\n",
    "\n",
    "# Show the pretty equation on the plot\n",
    "plt.text(2, max(y)-3, f\"y = {a:.2f} + {b:.2f} * x\")\n",
    "\n",
    "# Plot the line. We specify the source (x=0, y=a=intercept, and the slope)\n",
    "plt.axline(xy1=(0, a), slope=b, color='red', linestyle='--', label='Regression Line')\n",
    "plt.show()"
   ]
  },
  {
   "cell_type": "markdown",
   "id": "91287a85",
   "metadata": {},
   "source": [
    "I have to ackowledge that I feel so excited now. Let's now asses the model. For that purpose we have several metrics at our disposal. We will focus on R squared now, it tells us how much of the variation in y is explained by x. In other words, how well our line fits the model.\n",
    "<br><br>\n",
    "\n",
    "\n",
    "\n",
    "$$\n",
    "R^2 = 1 - \\frac{\\text{sum squared regression (SSR)}}{\\text{total sum of squares (SST)}} = 1 - \\frac{\\sum (y_i - \\hat{y}_i)^2}{\\sum (y_i - \\bar{y})^2}\n",
    "$$\n",
    "\n",
    "<br>More info on the underlying math and interpreting the results:<br>\n",
    "https://www.ncl.ac.uk/webtemplate/ask-assets/external/maths-resources/statistics/regression-and-correlation/coefficient-of-determination-r-squared.html"
   ]
  },
  {
   "cell_type": "code",
   "execution_count": null,
   "id": "fcd30ce2",
   "metadata": {},
   "outputs": [
    {
     "name": "stdout",
     "output_type": "stream",
     "text": [
      "R²: 0.0276\n"
     ]
    }
   ],
   "source": [
    "# Find the residuals for each point\n",
    "residuals = []\n",
    "\n",
    "for i in range(len(X)):\n",
    "    # Find the predicte Y value by the regression line\n",
    "    predicted_y = a + b * X[i]\n",
    "\n",
    "    # Calculate the residual and add it to the list\n",
    "    residuals.append(y[i] - predicted_y)\n",
    "\n",
    "# We can calculate the formula now ∑(y_i - ŷ_i)² = ∑ r_i² (numerator of the R2 formula)\n",
    "sum_of_squares = sum(r ** 2 for r in residuals)\n",
    "\n",
    "# Now we can finalize ∑(y_i - ȳ)² (denominator of the R2 formula)\n",
    "total_sum_of_squares = sum((y[i] - mean_y) ** 2 for i in range(len(y))) \n",
    "\n",
    "# Finally, we can calculate R²\n",
    "R_squared = 1 - (sum_of_squares / total_sum_of_squares)\n",
    "\n",
    "# Print the R² value. The closer to 1, the better the fit of the model.\n",
    "print(f\"R²: {R_squared:.4f}\")\n"
   ]
  }
 ],
 "metadata": {
  "kernelspec": {
   "display_name": "Python 3",
   "language": "python",
   "name": "python3"
  },
  "language_info": {
   "codemirror_mode": {
    "name": "ipython",
    "version": 3
   },
   "file_extension": ".py",
   "mimetype": "text/x-python",
   "name": "python",
   "nbconvert_exporter": "python",
   "pygments_lexer": "ipython3",
   "version": "3.13.4"
  }
 },
 "nbformat": 4,
 "nbformat_minor": 5
}
